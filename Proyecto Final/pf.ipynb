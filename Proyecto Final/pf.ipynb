{
 "cells": [
  {
   "cell_type": "markdown",
   "metadata": {},
   "source": [
    "# Proyecto Final - Recuperación de la Información \n",
    "## Otoño 2023 \n",
    "## Benemérita Universidad Autónoma de Puebla\n",
    "### Alfonso Reyes D'Elia \n",
    "---\n",
    "### __Planteamiento:__\n",
    "1. Elegir alguno de los corpus localizados en Teams en la carpeta de Proyecto. Encontrarán ahí documentos para entrenamiento y pruebas o en su defecto tome el 80 por ciento de datos para entrenar y el 20 para probar.\n",
    "2. Preprocesen los documentos para obtener la representación vectorial de los mismos.\n",
    "3. Utilicen Weka o Python para clasificar los textos, experimenten clasificando con tf con tf-idf y reduciendo el vocabulario\n",
    "4. Generen su reporte en el mismo formato de las prácticas reportando la exactitud, precisión, recuerdo y medida F obtenidas."
   ]
  },
  {
   "cell_type": "markdown",
   "metadata": {},
   "source": []
  }
 ],
 "metadata": {
  "kernelspec": {
   "display_name": "Python 3.10.2 64-bit",
   "language": "python",
   "name": "python3"
  },
  "language_info": {
   "codemirror_mode": {
    "name": "ipython",
    "version": 3
   },
   "file_extension": ".py",
   "mimetype": "text/x-python",
   "name": "python",
   "nbconvert_exporter": "python",
   "pygments_lexer": "ipython3",
   "version": "3.10.2"
  },
  "orig_nbformat": 4,
  "vscode": {
   "interpreter": {
    "hash": "8bac3ed83652cd3fb2be2ab4720f126b858190479445937cf7f7241afc53dfb0"
   }
  }
 },
 "nbformat": 4,
 "nbformat_minor": 2
}
